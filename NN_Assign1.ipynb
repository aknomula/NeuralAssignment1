{
  "nbformat": 4,
  "nbformat_minor": 0,
  "metadata": {
    "colab": {
      "provenance": []
    },
    "kernelspec": {
      "name": "python3",
      "display_name": "Python 3"
    },
    "language_info": {
      "name": "python"
    }
  },
  "cells": [
    {
      "cell_type": "code",
      "source": [
        "def reverse(str):                   # Define string\n",
        "  return str[::-1]                  #To return the output\n",
        "\n",
        "x=(\"python\".replace('ho',''))       #To replace the character\n",
        "print(reverse(x))                   #To reverse the string\n"
      ],
      "metadata": {
        "colab": {
          "base_uri": "https://localhost:8080/"
        },
        "id": "TJm1Rppfg84Q",
        "outputId": "3028278c-bbd1-49e4-a6f8-afee85e7c7b2"
      },
      "execution_count": 1,
      "outputs": [
        {
          "output_type": "stream",
          "name": "stdout",
          "text": [
            "ntyp\n"
          ]
        }
      ]
    },
    {
      "cell_type": "code",
      "execution_count": null,
      "metadata": {
        "colab": {
          "base_uri": "https://localhost:8080/"
        },
        "id": "QxbHvkU7f23t",
        "outputId": "9a8d5c46-b912-4025-f619-9bbe64e1c544"
      },
      "outputs": [
        {
          "output_type": "stream",
          "name": "stdout",
          "text": [
            "sum =  5\n",
            "diff =  -1\n",
            "Divide =  0.6666666666666666\n",
            "Percentage =  2\n"
          ]
        }
      ],
      "source": [
        "a=2                                 #number1\n",
        "b=3                                 #number2\n",
        "print(\"sum = \",a+b)                 #Addition of 2 numbers\n",
        "print(\"diff = \",a-b)                #Difference between 2 numbers\n",
        "print(\"Divide = \", a/b)             #Division\n",
        "print(\"Percentage = \", a%b)         #Percentage"
      ]
    },
    {
      "cell_type": "code",
      "source": [
        "str=\"I love playing with python\"\n",
        "print(str.replace('python','pythons'))    #To replace one string with another\n"
      ],
      "metadata": {
        "colab": {
          "base_uri": "https://localhost:8080/"
        },
        "id": "VHMY_1Aplws3",
        "outputId": "bfd6c0d3-9906-42b0-ba83-33858d981e80"
      },
      "execution_count": null,
      "outputs": [
        {
          "output_type": "stream",
          "name": "stdout",
          "text": [
            "I love playing with pythons\n"
          ]
        }
      ]
    },
    {
      "cell_type": "code",
      "source": [
        "sub1=10\n",
        "sub2=30\n",
        "total=sub1+sub2\n",
        "\n",
        "if(total>=90):\n",
        "  print(\"Your grade is A\")\n",
        "\n",
        "elif(total>=70 and total<90):\n",
        "  print(\"Your grade is B\")\n",
        "\n",
        "elif(total>=50 and total <70):\n",
        "  print(\"Your grade is C\")\n",
        "\n",
        "else:\n",
        "  print(\"Your grade is F\")\n"
      ],
      "metadata": {
        "colab": {
          "base_uri": "https://localhost:8080/"
        },
        "id": "oeUNTZs6mSqe",
        "outputId": "ef449de9-e337-4b3c-fe34-9e9d8728f71e"
      },
      "execution_count": null,
      "outputs": [
        {
          "output_type": "stream",
          "name": "stdout",
          "text": [
            "Your grade is F\n"
          ]
        }
      ]
    }
  ]
}